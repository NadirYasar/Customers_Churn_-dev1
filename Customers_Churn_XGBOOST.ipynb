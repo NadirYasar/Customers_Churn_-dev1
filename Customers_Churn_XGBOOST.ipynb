{
  "nbformat": 4,
  "nbformat_minor": 0,
  "metadata": {
    "colab": {
      "provenance": [],
      "authorship_tag": "ABX9TyOR0YeToABdZxQ2Xs1Ugkvo",
      "include_colab_link": true
    },
    "kernelspec": {
      "name": "python3",
      "display_name": "Python 3"
    },
    "language_info": {
      "name": "python"
    }
  },
  "cells": [
    {
      "cell_type": "markdown",
      "metadata": {
        "id": "view-in-github",
        "colab_type": "text"
      },
      "source": [
        "<a href=\"https://colab.research.google.com/github/NadirYasar/Customers_Churn_-dev1/blob/main/Customers_Churn_XGBOOST.ipynb\" target=\"_parent\"><img src=\"https://colab.research.google.com/assets/colab-badge.svg\" alt=\"Open In Colab\"/></a>"
      ]
    },
    {
      "cell_type": "code",
      "execution_count": 2,
      "metadata": {
        "colab": {
          "base_uri": "https://localhost:8080/"
        },
        "id": "-tEtcBMIL1L-",
        "outputId": "e444cd37-00ff-48b1-be24-6f94d94a0cec"
      },
      "outputs": [
        {
          "output_type": "stream",
          "name": "stdout",
          "text": [
            "Requirement already satisfied: pyspark in /usr/local/lib/python3.11/dist-packages (3.5.4)\n",
            "Requirement already satisfied: py4j==0.10.9.7 in /usr/local/lib/python3.11/dist-packages (from pyspark) (0.10.9.7)\n"
          ]
        }
      ],
      "source": [
        "!pip install pyspark"
      ]
    },
    {
      "cell_type": "code",
      "source": [
        "from pyspark.sql import SparkSession"
      ],
      "metadata": {
        "id": "dKKtyXnbL4Y1"
      },
      "execution_count": 3,
      "outputs": []
    },
    {
      "cell_type": "code",
      "source": [
        "spark = SparkSession.builder.appName('CustomerChurn').getOrCreate()"
      ],
      "metadata": {
        "id": "OjPvYVudMA7d"
      },
      "execution_count": 4,
      "outputs": []
    },
    {
      "cell_type": "code",
      "source": [
        "data = spark.read.csv('/content/customer_churn.csv',inferSchema=True,header=True)\n",
        "data.show()"
      ],
      "metadata": {
        "colab": {
          "base_uri": "https://localhost:8080/"
        },
        "id": "YDnI1e-5ME9y",
        "outputId": "eff4020d-fe22-4862-f841-3c56b85835c7"
      },
      "execution_count": 5,
      "outputs": [
        {
          "output_type": "stream",
          "name": "stdout",
          "text": [
            "+-------------------+----+--------------+---------------+-----+---------+-------------------+--------------------+--------------------+-----+\n",
            "|              Names| Age|Total_Purchase|Account_Manager|Years|Num_Sites|       Onboard_date|            Location|             Company|Churn|\n",
            "+-------------------+----+--------------+---------------+-----+---------+-------------------+--------------------+--------------------+-----+\n",
            "|   Cameron Williams|42.0|       11066.8|              0| 7.22|      8.0|2013-08-30 07:00:40|10265 Elizabeth M...|          Harvey LLC|    1|\n",
            "|      Kevin Mueller|41.0|      11916.22|              0|  6.5|     11.0|2013-08-13 00:38:46|6157 Frank Garden...|          Wilson PLC|    1|\n",
            "|        Eric Lozano|38.0|      12884.75|              0| 6.67|     12.0|2016-06-29 06:20:07|1331 Keith Court ...|Miller, Johnson a...|    1|\n",
            "|      Phillip White|42.0|       8010.76|              0| 6.71|     10.0|2014-04-22 12:43:12|13120 Daniel Moun...|           Smith Inc|    1|\n",
            "|     Cynthia Norton|37.0|       9191.58|              0| 5.56|      9.0|2016-01-19 15:31:15|765 Tricia Row Ka...|          Love-Jones|    1|\n",
            "|   Jessica Williams|48.0|      10356.02|              0| 5.12|      8.0|2009-03-03 23:13:37|6187 Olson Mounta...|        Kelly-Warren|    1|\n",
            "|        Eric Butler|44.0|      11331.58|              1| 5.23|     11.0|2016-12-05 03:35:43|4846 Savannah Roa...|   Reynolds-Sheppard|    1|\n",
            "|      Zachary Walsh|32.0|       9885.12|              1| 6.92|      9.0|2006-03-09 14:50:20|25271 Roy Express...|          Singh-Cole|    1|\n",
            "|        Ashlee Carr|43.0|       14062.6|              1| 5.46|     11.0|2011-09-29 05:47:23|3725 Caroline Str...|           Lopez PLC|    1|\n",
            "|     Jennifer Lynch|40.0|       8066.94|              1| 7.11|     11.0|2006-03-28 15:42:45|363 Sandra Lodge ...|       Reed-Martinez|    1|\n",
            "|       Paula Harris|30.0|      11575.37|              1| 5.22|      8.0|2016-11-13 13:13:01|Unit 8120 Box 916...|Briggs, Lamb and ...|    1|\n",
            "|     Bruce Phillips|45.0|       8771.02|              1| 6.64|     11.0|2015-05-28 12:14:03|Unit 1895 Box 094...|    Figueroa-Maynard|    1|\n",
            "|       Craig Garner|45.0|       8988.67|              1| 4.84|     11.0|2011-02-16 08:10:47|897 Kelley Overpa...|     Abbott-Thompson|    1|\n",
            "|       Nicole Olson|40.0|       8283.32|              1|  5.1|     13.0|2012-11-22 05:35:03|11488 Weaver Cape...|Smith, Kim and Ma...|    1|\n",
            "|     Harold Griffin|41.0|       6569.87|              1|  4.3|     11.0|2015-03-28 02:13:44|1774 Peter Row Ap...|Snyder, Lee and M...|    1|\n",
            "|       James Wright|38.0|      10494.82|              1| 6.81|     12.0|2015-07-22 08:38:40|45408 David Path ...|      Sanders-Pierce|    1|\n",
            "|      Doris Wilkins|45.0|       8213.41|              1| 7.35|     11.0|2006-09-03 06:13:55|28216 Wright Moun...|Andrews, Adams an...|    1|\n",
            "|Katherine Carpenter|43.0|      11226.88|              0| 8.08|     12.0|2006-10-22 04:42:38|Unit 4948 Box 481...|Morgan, Phillips ...|    1|\n",
            "|     Lindsay Martin|53.0|       5515.09|              0| 6.85|      8.0|2015-10-07 00:27:10|69203 Crosby Divi...|      Villanueva LLC|    1|\n",
            "|        Kathy Curry|46.0|        8046.4|              1| 5.69|      8.0|2014-11-06 23:47:14|9569 Caldwell Cre...|Berry, Orr and Ca...|    1|\n",
            "+-------------------+----+--------------+---------------+-----+---------+-------------------+--------------------+--------------------+-----+\n",
            "only showing top 20 rows\n",
            "\n"
          ]
        }
      ]
    },
    {
      "cell_type": "code",
      "source": [
        "from pyspark.sql import SparkSession\n",
        "from pyspark.ml.evaluation import BinaryClassificationEvaluator\n",
        "from pyspark.ml.feature import VectorAssembler\n",
        "from pyspark.sql.functions import unix_timestamp, current_date, to_date\n",
        "import xgboost as xgb\n",
        "import numpy as np\n",
        "import pandas as pd\n",
        "from sklearn.metrics import roc_auc_score\n",
        "\n",
        "# Spark oturumu başlatma\n",
        "spark = SparkSession.builder.appName(\"XGBoostChurn\").getOrCreate()\n",
        "\n",
        "# Veriyi yükleme\n",
        "# Veri setinin adını ve yolunu buraya ekleyin\n",
        "# data = spark.read.csv('your_dataset.csv', header=True, inferSchema=True)\n",
        "\n",
        "# Tarih sütununu düzenleme ve yeni bir sütun ekleme\n",
        "data = data.withColumn(\"Onboard_date\", to_date(\"Onboard_date\", \"yyyy-MM-dd HH:mm:ss\"))\n",
        "\n",
        "# Days_onboard hesaplaması\n",
        "data = data.withColumn(\n",
        "    \"Days_onboard\",\n",
        "    (unix_timestamp(current_date()) - unix_timestamp(\"Onboard_date\")) / (60 * 60 * 24)\n",
        ")\n",
        "\n",
        "# Gereksiz sütunları silme\n",
        "data = data.drop(\"Names\", \"Location\", \"Onboard_date\", \"Company\")\n",
        "\n",
        "# Özellikler ve hedef sütunlar\n",
        "feature_cols = [\"Age\", \"Total_Purchase\", \"Years\", \"Num_Sites\", \"Days_onboard\", \"Account_Manager\"]\n",
        "\n",
        "# VectorAssembler ile özellikleri birleştiriyoruz\n",
        "assembler = VectorAssembler(inputCols=feature_cols, outputCol=\"features\")\n",
        "\n",
        "# Veriyi dönüştürme\n",
        "data = assembler.transform(data)  # Feature'ları birleştiriyoruz\n",
        "\n",
        "# Eğitim ve test verilerini oluşturma\n",
        "train_data, test_data = data.randomSplit([0.8, 0.2], seed=42)\n",
        "\n",
        "# XGBoost için veri hazırlığı\n",
        "def spark_to_numpy(df, features_col, label_col):\n",
        "    \"\"\"Veriyi Spark DataFrame'den numpy array'e dönüştürür.\"\"\"\n",
        "    features = np.array(df.select(features_col).rdd.map(lambda x: x[0].toArray()).collect())\n",
        "    labels = np.array(df.select(label_col).rdd.map(lambda x: x[0]).collect())\n",
        "    return features, labels\n",
        "\n",
        "# Eğitim verisini numpy array formatına çevirme\n",
        "X_train, y_train = spark_to_numpy(train_data, \"features\", \"Churn\")\n",
        "\n",
        "# Test verisini numpy array formatına çevirme\n",
        "X_test, y_test = spark_to_numpy(test_data, \"features\", \"Churn\")\n",
        "\n",
        "# XGBoost DMatrix oluşturma\n",
        "dtrain = xgb.DMatrix(X_train, label=y_train)\n",
        "dtest = xgb.DMatrix(X_test, label=y_test)\n",
        "\n",
        "# XGBoost parametreleri\n",
        "params = {\n",
        "    \"objective\": \"binary:logistic\",\n",
        "    \"eval_metric\": \"auc\",\n",
        "    \"max_depth\": 6,\n",
        "    \"learning_rate\": 0.1,\n",
        "    \"subsample\": 0.8,\n",
        "    \"colsample_bytree\": 0.8,\n",
        "    \"scale_pos_weight\": 10  # Veri dengesizliği için\n",
        "}\n",
        "\n",
        "# Modeli eğitme\n",
        "num_round = 100\n",
        "model = xgb.train(params, dtrain, num_round, [(dtrain, 'train'), (dtest, 'eval')], early_stopping_rounds=10)\n",
        "\n",
        "# Test verisi üzerinde tahminler yapma\n",
        "predictions = model.predict(dtest)\n",
        "\n",
        "# AUC hesaplama (sklearn ile)\n",
        "auc_score = roc_auc_score(y_test, predictions)\n",
        "print(f\"AUC (cross-validation): {auc_score}\")\n",
        "\n",
        "# PySpark DataFrame'ine dönüştürme (Predictions ve Churn sütunlarını birleştiriyoruz)\n",
        "result_df = pd.DataFrame({\"prediction\": predictions, \"Churn\": y_test})\n",
        "pred_df = spark.createDataFrame(result_df)\n",
        "\n",
        "# Değerlendirme: AUC metriği\n",
        "evaluator = BinaryClassificationEvaluator(labelCol=\"Churn\", rawPredictionCol=\"prediction\", metricName=\"areaUnderROC\")\n",
        "\n",
        "# AUC değeri hesaplama\n",
        "auc = evaluator.evaluate(pred_df)\n",
        "print(f\"AUC (XGBoost): {auc}\")\n"
      ],
      "metadata": {
        "colab": {
          "base_uri": "https://localhost:8080/"
        },
        "id": "XxTaG8nVMMoZ",
        "outputId": "8e9bd7e2-0448-4200-f5ba-f8a8cd88a3fe"
      },
      "execution_count": 6,
      "outputs": [
        {
          "output_type": "stream",
          "name": "stdout",
          "text": [
            "[0]\ttrain-auc:0.92925\teval-auc:0.85345\n",
            "[1]\ttrain-auc:0.94761\teval-auc:0.78463\n",
            "[2]\ttrain-auc:0.97137\teval-auc:0.85460\n",
            "[3]\ttrain-auc:0.97827\teval-auc:0.83434\n",
            "[4]\ttrain-auc:0.98502\teval-auc:0.82284\n",
            "[5]\ttrain-auc:0.98928\teval-auc:0.82443\n",
            "[6]\ttrain-auc:0.98981\teval-auc:0.81925\n",
            "[7]\ttrain-auc:0.99297\teval-auc:0.83879\n",
            "[8]\ttrain-auc:0.99347\teval-auc:0.85718\n",
            "[9]\ttrain-auc:0.99332\teval-auc:0.85805\n",
            "[10]\ttrain-auc:0.99315\teval-auc:0.85546\n",
            "[11]\ttrain-auc:0.99285\teval-auc:0.86494\n",
            "[12]\ttrain-auc:0.99365\teval-auc:0.86379\n",
            "[13]\ttrain-auc:0.99356\teval-auc:0.87241\n",
            "[14]\ttrain-auc:0.99393\teval-auc:0.87759\n",
            "[15]\ttrain-auc:0.99386\teval-auc:0.88333\n",
            "[16]\ttrain-auc:0.99406\teval-auc:0.88851\n",
            "[17]\ttrain-auc:0.99405\teval-auc:0.89109\n",
            "[18]\ttrain-auc:0.99506\teval-auc:0.89109\n",
            "[19]\ttrain-auc:0.99557\teval-auc:0.88736\n",
            "[20]\ttrain-auc:0.99607\teval-auc:0.88879\n",
            "[21]\ttrain-auc:0.99594\teval-auc:0.89138\n",
            "[22]\ttrain-auc:0.99573\teval-auc:0.89799\n",
            "[23]\ttrain-auc:0.99604\teval-auc:0.90144\n",
            "[24]\ttrain-auc:0.99623\teval-auc:0.90402\n",
            "[25]\ttrain-auc:0.99681\teval-auc:0.90345\n",
            "[26]\ttrain-auc:0.99752\teval-auc:0.90057\n",
            "[27]\ttrain-auc:0.99758\teval-auc:0.90374\n",
            "[28]\ttrain-auc:0.99792\teval-auc:0.90402\n",
            "[29]\ttrain-auc:0.99812\teval-auc:0.90057\n",
            "[30]\ttrain-auc:0.99820\teval-auc:0.90115\n"
          ]
        },
        {
          "output_type": "stream",
          "name": "stderr",
          "text": [
            "/usr/local/lib/python3.11/dist-packages/xgboost/core.py:723: FutureWarning: Pass `evals` as keyword args.\n",
            "  warnings.warn(msg, FutureWarning)\n"
          ]
        },
        {
          "output_type": "stream",
          "name": "stdout",
          "text": [
            "[31]\ttrain-auc:0.99820\teval-auc:0.90316\n",
            "[32]\ttrain-auc:0.99833\teval-auc:0.90431\n",
            "[33]\ttrain-auc:0.99858\teval-auc:0.90316\n",
            "[34]\ttrain-auc:0.99855\teval-auc:0.90431\n",
            "[35]\ttrain-auc:0.99863\teval-auc:0.90460\n",
            "[36]\ttrain-auc:0.99871\teval-auc:0.90661\n",
            "[37]\ttrain-auc:0.99895\teval-auc:0.90747\n",
            "[38]\ttrain-auc:0.99897\teval-auc:0.90632\n",
            "[39]\ttrain-auc:0.99917\teval-auc:0.90833\n",
            "[40]\ttrain-auc:0.99925\teval-auc:0.90690\n",
            "[41]\ttrain-auc:0.99917\teval-auc:0.90690\n",
            "[42]\ttrain-auc:0.99938\teval-auc:0.90690\n",
            "[43]\ttrain-auc:0.99968\teval-auc:0.90690\n",
            "[44]\ttrain-auc:0.99966\teval-auc:0.90718\n",
            "[45]\ttrain-auc:0.99963\teval-auc:0.91178\n",
            "[46]\ttrain-auc:0.99980\teval-auc:0.90948\n",
            "[47]\ttrain-auc:0.99983\teval-auc:0.91092\n",
            "[48]\ttrain-auc:0.99987\teval-auc:0.91236\n",
            "[49]\ttrain-auc:0.99982\teval-auc:0.91121\n",
            "[50]\ttrain-auc:0.99993\teval-auc:0.91264\n",
            "[51]\ttrain-auc:0.99996\teval-auc:0.91322\n",
            "[52]\ttrain-auc:0.99999\teval-auc:0.91236\n",
            "[53]\ttrain-auc:0.99999\teval-auc:0.91092\n",
            "[54]\ttrain-auc:1.00000\teval-auc:0.91034\n",
            "[55]\ttrain-auc:0.99999\teval-auc:0.91063\n",
            "[56]\ttrain-auc:1.00000\teval-auc:0.90920\n",
            "[57]\ttrain-auc:1.00000\teval-auc:0.90862\n",
            "[58]\ttrain-auc:1.00000\teval-auc:0.90891\n",
            "[59]\ttrain-auc:1.00000\teval-auc:0.90977\n",
            "[60]\ttrain-auc:1.00000\teval-auc:0.90891\n",
            "[61]\ttrain-auc:1.00000\teval-auc:0.91006\n",
            "AUC (cross-validation): 0.9100574712643678\n",
            "AUC (XGBoost): 0.9100574712643682\n"
          ]
        }
      ]
    }
  ]
}